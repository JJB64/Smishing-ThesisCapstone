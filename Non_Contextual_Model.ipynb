{
  "nbformat": 4,
  "nbformat_minor": 0,
  "metadata": {
    "colab": {
      "provenance": []
    },
    "kernelspec": {
      "name": "python3",
      "display_name": "Python 3"
    },
    "language_info": {
      "name": "python"
    }
  },
  "cells": [
    {
      "cell_type": "markdown",
      "source": [
        "Importing Libraries"
      ],
      "metadata": {
        "id": "5gwcEH5DhZWT"
      }
    },
    {
      "cell_type": "code",
      "source": [
        "import pandas as pd\n",
        "import matplotlib.pyplot as plt\n",
        "from sklearn.model_selection import train_test_split\n",
        "from sklearn.feature_extraction.text import CountVectorizer\n",
        "from sklearn.naive_bayes import MultinomialNB\n",
        "from sklearn.metrics import accuracy_score, classification_report,confusion_matrix"
      ],
      "metadata": {
        "id": "vRDaOkz5hUz5"
      },
      "execution_count": null,
      "outputs": []
    },
    {
      "cell_type": "markdown",
      "source": [
        "Loading and splitting the Dataset"
      ],
      "metadata": {
        "id": "97EXg2Echf70"
      }
    },
    {
      "cell_type": "code",
      "source": [
        "from google.colab import drive\n",
        "drive.mount('/content/drive')"
      ],
      "metadata": {
        "colab": {
          "base_uri": "https://localhost:8080/"
        },
        "id": "SRMCRRXOhpak",
        "outputId": "1f533962-5172-46ca-c215-a76b8fc09483"
      },
      "execution_count": null,
      "outputs": [
        {
          "output_type": "stream",
          "name": "stdout",
          "text": [
            "Mounted at /content/drive\n"
          ]
        }
      ]
    },
    {
      "cell_type": "code",
      "source": [
        "df = pd.read_excel('/content/drive/My Drive/SmishingData/GhanaContextMessages.xlsx')\n",
        "df.to_csv('smishing_data.csv', index=False)\n",
        "X_train = df['Text']  # Features for training\n",
        "y_train = df['Label']    # Labels for training\n",
        "\n",
        "\n",
        "# Split the data into training and testing sets\n",
        "X_train, X_test, y_train, y_test = train_test_split(df['Text'], df['Label'], test_size=0.2, random_state=42)"
      ],
      "metadata": {
        "id": "ANWZcwkYhc_Q"
      },
      "execution_count": null,
      "outputs": []
    },
    {
      "cell_type": "markdown",
      "source": [
        "Vectorizing the text data"
      ],
      "metadata": {
        "id": "QM96qA_li7vL"
      }
    },
    {
      "cell_type": "code",
      "source": [
        "# Vectorize the text data using CountVectorizer\n",
        "vectorizer = CountVectorizer()\n",
        "X_train_vec = vectorizer.fit_transform(X_train)\n",
        "X_test_vec = vectorizer.transform(X_test)"
      ],
      "metadata": {
        "id": "1cbiG-P0h9l5"
      },
      "execution_count": null,
      "outputs": []
    },
    {
      "cell_type": "markdown",
      "source": [],
      "metadata": {
        "id": "GRlA65w1-pZn"
      }
    },
    {
      "cell_type": "markdown",
      "source": [
        "Training Classifier"
      ],
      "metadata": {
        "id": "O1fLdD8OjFep"
      }
    },
    {
      "cell_type": "code",
      "source": [
        "# TrainING Naive Bayes classifier\n",
        "nb_classifier = MultinomialNB()\n",
        "nb_classifier.fit(X_train_vec, y_train)\n"
      ],
      "metadata": {
        "colab": {
          "base_uri": "https://localhost:8080/",
          "height": 74
        },
        "id": "Q3SspldhjHBt",
        "outputId": "aad9a233-4194-40f5-ff7b-b06cd411ccdd"
      },
      "execution_count": null,
      "outputs": [
        {
          "output_type": "execute_result",
          "data": {
            "text/plain": [
              "MultinomialNB()"
            ],
            "text/html": [
              "<style>#sk-container-id-1 {color: black;}#sk-container-id-1 pre{padding: 0;}#sk-container-id-1 div.sk-toggleable {background-color: white;}#sk-container-id-1 label.sk-toggleable__label {cursor: pointer;display: block;width: 100%;margin-bottom: 0;padding: 0.3em;box-sizing: border-box;text-align: center;}#sk-container-id-1 label.sk-toggleable__label-arrow:before {content: \"▸\";float: left;margin-right: 0.25em;color: #696969;}#sk-container-id-1 label.sk-toggleable__label-arrow:hover:before {color: black;}#sk-container-id-1 div.sk-estimator:hover label.sk-toggleable__label-arrow:before {color: black;}#sk-container-id-1 div.sk-toggleable__content {max-height: 0;max-width: 0;overflow: hidden;text-align: left;background-color: #f0f8ff;}#sk-container-id-1 div.sk-toggleable__content pre {margin: 0.2em;color: black;border-radius: 0.25em;background-color: #f0f8ff;}#sk-container-id-1 input.sk-toggleable__control:checked~div.sk-toggleable__content {max-height: 200px;max-width: 100%;overflow: auto;}#sk-container-id-1 input.sk-toggleable__control:checked~label.sk-toggleable__label-arrow:before {content: \"▾\";}#sk-container-id-1 div.sk-estimator input.sk-toggleable__control:checked~label.sk-toggleable__label {background-color: #d4ebff;}#sk-container-id-1 div.sk-label input.sk-toggleable__control:checked~label.sk-toggleable__label {background-color: #d4ebff;}#sk-container-id-1 input.sk-hidden--visually {border: 0;clip: rect(1px 1px 1px 1px);clip: rect(1px, 1px, 1px, 1px);height: 1px;margin: -1px;overflow: hidden;padding: 0;position: absolute;width: 1px;}#sk-container-id-1 div.sk-estimator {font-family: monospace;background-color: #f0f8ff;border: 1px dotted black;border-radius: 0.25em;box-sizing: border-box;margin-bottom: 0.5em;}#sk-container-id-1 div.sk-estimator:hover {background-color: #d4ebff;}#sk-container-id-1 div.sk-parallel-item::after {content: \"\";width: 100%;border-bottom: 1px solid gray;flex-grow: 1;}#sk-container-id-1 div.sk-label:hover label.sk-toggleable__label {background-color: #d4ebff;}#sk-container-id-1 div.sk-serial::before {content: \"\";position: absolute;border-left: 1px solid gray;box-sizing: border-box;top: 0;bottom: 0;left: 50%;z-index: 0;}#sk-container-id-1 div.sk-serial {display: flex;flex-direction: column;align-items: center;background-color: white;padding-right: 0.2em;padding-left: 0.2em;position: relative;}#sk-container-id-1 div.sk-item {position: relative;z-index: 1;}#sk-container-id-1 div.sk-parallel {display: flex;align-items: stretch;justify-content: center;background-color: white;position: relative;}#sk-container-id-1 div.sk-item::before, #sk-container-id-1 div.sk-parallel-item::before {content: \"\";position: absolute;border-left: 1px solid gray;box-sizing: border-box;top: 0;bottom: 0;left: 50%;z-index: -1;}#sk-container-id-1 div.sk-parallel-item {display: flex;flex-direction: column;z-index: 1;position: relative;background-color: white;}#sk-container-id-1 div.sk-parallel-item:first-child::after {align-self: flex-end;width: 50%;}#sk-container-id-1 div.sk-parallel-item:last-child::after {align-self: flex-start;width: 50%;}#sk-container-id-1 div.sk-parallel-item:only-child::after {width: 0;}#sk-container-id-1 div.sk-dashed-wrapped {border: 1px dashed gray;margin: 0 0.4em 0.5em 0.4em;box-sizing: border-box;padding-bottom: 0.4em;background-color: white;}#sk-container-id-1 div.sk-label label {font-family: monospace;font-weight: bold;display: inline-block;line-height: 1.2em;}#sk-container-id-1 div.sk-label-container {text-align: center;}#sk-container-id-1 div.sk-container {/* jupyter's `normalize.less` sets `[hidden] { display: none; }` but bootstrap.min.css set `[hidden] { display: none !important; }` so we also need the `!important` here to be able to override the default hidden behavior on the sphinx rendered scikit-learn.org. See: https://github.com/scikit-learn/scikit-learn/issues/21755 */display: inline-block !important;position: relative;}#sk-container-id-1 div.sk-text-repr-fallback {display: none;}</style><div id=\"sk-container-id-1\" class=\"sk-top-container\"><div class=\"sk-text-repr-fallback\"><pre>MultinomialNB()</pre><b>In a Jupyter environment, please rerun this cell to show the HTML representation or trust the notebook. <br />On GitHub, the HTML representation is unable to render, please try loading this page with nbviewer.org.</b></div><div class=\"sk-container\" hidden><div class=\"sk-item\"><div class=\"sk-estimator sk-toggleable\"><input class=\"sk-toggleable__control sk-hidden--visually\" id=\"sk-estimator-id-1\" type=\"checkbox\" checked><label for=\"sk-estimator-id-1\" class=\"sk-toggleable__label sk-toggleable__label-arrow\">MultinomialNB</label><div class=\"sk-toggleable__content\"><pre>MultinomialNB()</pre></div></div></div></div></div>"
            ]
          },
          "metadata": {},
          "execution_count": 5
        }
      ]
    },
    {
      "cell_type": "markdown",
      "source": [
        "Testing with Test set"
      ],
      "metadata": {
        "id": "je2AeejUjHxr"
      }
    },
    {
      "cell_type": "code",
      "source": [
        "# Make predictions on the test set\n",
        "y_pred = nb_classifier.predict(X_test_vec)\n",
        "\n",
        "# Evaluating model\n",
        "accuracy = accuracy_score(y_test, y_pred)\n",
        "report = classification_report(y_test, y_pred)\n",
        "\n",
        "print(\"Accuracy:\", accuracy)\n",
        "print(\"\\nClassification Report:\\n\", report)\n",
        "\n",
        "# Printing confusion matrix\n",
        "print('Confusion Matrix:')\n",
        "print(confusion_matrix(y_test, y_pred))\n",
        "\n"
      ],
      "metadata": {
        "colab": {
          "base_uri": "https://localhost:8080/"
        },
        "id": "2Vjew5szjQKd",
        "outputId": "c71d1b6f-c01a-494b-91f5-4af3990e0fa2"
      },
      "execution_count": null,
      "outputs": [
        {
          "output_type": "stream",
          "name": "stdout",
          "text": [
            "Accuracy: 0.9963768115942029\n",
            "\n",
            "Classification Report:\n",
            "               precision    recall  f1-score   support\n",
            "\n",
            "         ham       0.99      1.00      1.00       152\n",
            "       smish       1.00      0.99      1.00       124\n",
            "\n",
            "    accuracy                           1.00       276\n",
            "   macro avg       1.00      1.00      1.00       276\n",
            "weighted avg       1.00      1.00      1.00       276\n",
            "\n",
            "Confusion Matrix:\n",
            "[[152   0]\n",
            " [  1 123]]\n"
          ]
        }
      ]
    },
    {
      "cell_type": "code",
      "source": [
        "# Making predictions on both the training and test sets\n",
        "y_train_pred = nb_classifier.predict(X_train_vec)\n",
        "y_test_pred = nb_classifier.predict(X_test_vec)\n",
        "\n",
        "# Calculating accuracies\n",
        "train_accuracy = accuracy_score(y_train, y_train_pred)\n",
        "test_accuracy = accuracy_score(y_test, y_test_pred)\n",
        "\n",
        "# Printing accuracies and classification report for the test set\n",
        "print(\"Training Accuracy:\", train_accuracy)\n",
        "print(\"Testing Accuracy:\", test_accuracy)\n",
        "print(\"\\nClassification Report:\\n\", classification_report(y_test, y_test_pred))\n",
        "print('Confusion Matrix:\\n', confusion_matrix(y_test, y_test_pred))\n",
        "\n",
        "# Plotting the accuracies\n",
        "labels = ['Train Accuracy', 'Test Accuracy']\n",
        "accuracies = [train_accuracy, test_accuracy]\n",
        "plt.bar(labels, accuracies, color=['blue', 'green'])\n",
        "plt.xlabel('Data Type')\n",
        "plt.ylabel('Accuracy')\n",
        "plt.title('Training vs Testing Accuracies of Naïve Bayes Model')\n",
        "plt.ylim([0, 1])\n",
        "plt.show()"
      ],
      "metadata": {
        "colab": {
          "base_uri": "https://localhost:8080/",
          "height": 750
        },
        "id": "F4c_QXpmOZR_",
        "outputId": "02242adb-9f32-4f5b-e6c0-c584ff2d4549"
      },
      "execution_count": null,
      "outputs": [
        {
          "output_type": "stream",
          "name": "stdout",
          "text": [
            "Training Accuracy: 0.9936479128856625\n",
            "Testing Accuracy: 0.9963768115942029\n",
            "\n",
            "Classification Report:\n",
            "               precision    recall  f1-score   support\n",
            "\n",
            "         ham       0.99      1.00      1.00       152\n",
            "       smish       1.00      0.99      1.00       124\n",
            "\n",
            "    accuracy                           1.00       276\n",
            "   macro avg       1.00      1.00      1.00       276\n",
            "weighted avg       1.00      1.00      1.00       276\n",
            "\n",
            "Confusion Matrix:\n",
            " [[152   0]\n",
            " [  1 123]]\n"
          ]
        },
        {
          "output_type": "display_data",
          "data": {
            "text/plain": [
              "<Figure size 640x480 with 1 Axes>"
            ],
            "image/png": "[encoded data removed]"
          },
          "metadata": {}
        }
      ]
    },
    {
      "cell_type": "markdown",
      "source": [
        "Displaying mislabled texts"
      ],
      "metadata": {
        "id": "GSPUs4gBmQb0"
      }
    },
    {
      "cell_type": "code",
      "source": [
        "misclassified = df.iloc[y_test.index][y_test != y_test_pred]  # Selecting rows from df based on y_test index\n",
        "misclassified['Predicted'] = y_test_pred[y_test != y_test_pred]  # Adding predicted labels\n",
        "misclassified = misclassified.reset_index()\n",
        "print(\"\\nMisclassified Messages:\\n\")\n",
        "for index, row in misclassified.iterrows():\n",
        "    print(f\"Message: {df.iloc[row['index']]['Text']}\")  # Accessing message from df using original index\n",
        "    print(f\"True Label: {row['Label']}, Predicted Label: {row['Predicted']}\")\n",
        "    print(\"-\" * 50)\n"
      ],
      "metadata": {
        "colab": {
          "base_uri": "https://localhost:8080/"
        },
        "id": "rOKtqvfCmPsy",
        "outputId": "b6455e19-5cb3-421e-e3dc-add8ff99cb6b"
      },
      "execution_count": null,
      "outputs": [
        {
          "output_type": "stream",
          "name": "stdout",
          "text": [
            "\n",
            "Misclassified Messages:\n",
            "\n",
            "Message: Your MOMO account is temporarily locked for 45 days.\n",
            "True Label: smish, Predicted Label: ham\n",
            "--------------------------------------------------\n"
          ]
        }
      ]
    },
    {
      "cell_type": "code",
      "source": [
        "# Function to predict whether a message is harmless or smishing\n",
        "def predict_message(message):\n",
        "    message_vec = vectorizer.transform([message])     # Vectorizing input message\n",
        "    prediction = nb_classifier.predict(message_vec)   # Predicting the label(whether its harmless or smishing)\n",
        "    return prediction[0]\n",
        "\n",
        "\n",
        "test_messages = [\n",
        "    'If u are into betting text this number ( https://wa.me/+233538060263 ) for fixed match and join this channel (https://t.me/bayekfixed)  for free tips',\n",
        "    'MobileMoney reccieved for GHS 200.00. from GOOD MOTHER-ENT. TAKORADI En-terprise. curenttbal-ane: GH307.00. avilablebalane: GH307.00.',\n",
        "    'I am a project manager, we are recruiting a team, you can work from home, daily salary: 1500-3000, accept jobs on whats:http://wa.me/233200912368',\n",
        "    'YOUR MOBILE MONEY ACCOUNT HAS BEEN BLOCKED DUE TO RECIEVING OF WRONG TRANSFER MONEY CALL AGENT FOR UNLOCKEN.',\n",
        "    'BIG MONEY! Yesss you 0544484998 read it right! Reply VIP and habilitate yourself to 30 000GHS and much more. Reply VIP',\n",
        "    'Hi dear friend,there are testimonies, Gh89.0 is BIG win for you. TODAY 1PM TO 7PM,LEAKED LOTTOCAST,GH NO FAIL! *959# TO PLAY BANKER/1to90 (( 78 )) MINE,QUARTER',\n",
        "    'Payment for GHS93.02 to BluPay  .Current Balance: GHS 269.42. Transaction Id: 79462953416. Fee charged: GHS0.00,Tax Charged 0.Download the MoMo App for a Faster & Easier Experience. Click here: http://mtnghana.app.link/nsBnhItDoob',\n",
        "    'Dear, Part-time job mobile phone operation anytime, earn 20-40 usd per day  add a teachers WS:https://wa.me/639163056565',\n",
        "    'You have an item that cannot be delivered, please your address for verification, click: https://lihi.cc/mCGgz',\n",
        "    'FABULOUS NEWS! 0544484998 start spring off right with 30 000GHS in your pocket! Reply VIP is all it takes to win many prizes.Reply VIP',\n",
        "    'Today is Market Day Wednesday! Enjoy a 10% discount with your Super Saver Card on purchases worth Ghc400 and above in all Melcom stores. Happy Shopping! If you want to stop receiving this sms type DND & SMS 0551188777(E&OE).',\n",
        "    'DR.S.AMPONG, NLA TODAY 100%LEAKED,NO FAIL PIs {32-89-35-1} Gh5Each { 32-1 }Gh20 WINGh9000 MomoSim*959#DOiN(Perm-2)NLA closes7PM.Call Me8PM.MyShare(HALF)'\n",
        "\n",
        "]\n",
        "\n",
        "for message in test_messages:\n",
        "    print(f\"Message: {message}\")\n",
        "    print(f\"Prediction: {predict_message(message)}\")\n",
        "    print(\"-\" * 50)"
      ],
      "metadata": {
        "id": "Cz_FNX9hVcve",
        "colab": {
          "base_uri": "https://localhost:8080/"
        },
        "outputId": "578d74d1-399e-4502-c062-3542c745d3e0"
      },
      "execution_count": null,
      "outputs": [
        {
          "output_type": "stream",
          "name": "stdout",
          "text": [
            "Message: If u are into betting text this number ( https://wa.me/+233538060263 ) for fixed match and join this channel (https://t.me/bayekfixed)  for free tips\n",
            "Prediction: smish\n",
            "--------------------------------------------------\n",
            "Message: MobileMoney reccieved for GHS 200.00. from GOOD MOTHER-ENT. TAKORADI En-terprise. curenttbal-ane: GH307.00. avilablebalane: GH307.00.\n",
            "Prediction: smish\n",
            "--------------------------------------------------\n",
            "Message: I am a project manager, we are recruiting a team, you can work from home, daily salary: 1500-3000, accept jobs on whats:http://wa.me/233200912368\n",
            "Prediction: smish\n",
            "--------------------------------------------------\n",
            "Message: YOUR MOBILE MONEY ACCOUNT HAS BEEN BLOCKED DUE TO RECIEVING OF WRONG TRANSFER MONEY CALL AGENT FOR UNLOCKEN.\n",
            "Prediction: smish\n",
            "--------------------------------------------------\n",
            "Message: BIG MONEY! Yesss you 0544484998 read it right! Reply VIP and habilitate yourself to 30 000GHS and much more. Reply VIP\n",
            "Prediction: ham\n",
            "--------------------------------------------------\n",
            "Message: Hi dear friend,there are testimonies, Gh89.0 is BIG win for you. TODAY 1PM TO 7PM,LEAKED LOTTOCAST,GH NO FAIL! *959# TO PLAY BANKER/1to90 (( 78 )) MINE,QUARTER\n",
            "Prediction: smish\n",
            "--------------------------------------------------\n",
            "Message: Payment for GHS93.02 to BluPay  .Current Balance: GHS 269.42. Transaction Id: 79462953416. Fee charged: GHS0.00,Tax Charged 0.Download the MoMo App for a Faster & Easier Experience. Click here: http://mtnghana.app.link/nsBnhItDoob\n",
            "Prediction: ham\n",
            "--------------------------------------------------\n",
            "Message: Dear, Part-time job mobile phone operation anytime, earn 20-40 usd per day  add a teachers WS:https://wa.me/639163056565\n",
            "Prediction: smish\n",
            "--------------------------------------------------\n",
            "Message: You have an item that cannot be delivered, please your address for verification, click: https://lihi.cc/mCGgz\n",
            "Prediction: smish\n",
            "--------------------------------------------------\n",
            "Message: FABULOUS NEWS! 0544484998 start spring off right with 30 000GHS in your pocket! Reply VIP is all it takes to win many prizes.Reply VIP\n",
            "Prediction: ham\n",
            "--------------------------------------------------\n",
            "Message: Today is Market Day Wednesday! Enjoy a 10% discount with your Super Saver Card on purchases worth Ghc400 and above in all Melcom stores. Happy Shopping! If you want to stop receiving this sms type DND & SMS 0551188777(E&OE).\n",
            "Prediction: ham\n",
            "--------------------------------------------------\n",
            "Message: DR.S.AMPONG, NLA TODAY 100%LEAKED,NO FAIL PIs {32-89-35-1} Gh5Each { 32-1 }Gh20 WINGh9000 MomoSim*959#DOiN(Perm-2)NLA closes7PM.Call Me8PM.MyShare(HALF)\n",
            "Prediction: smish\n",
            "--------------------------------------------------\n"
          ]
        }
      ]
    }
  ]
}